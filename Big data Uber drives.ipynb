{
 "cells": [
  {
   "cell_type": "markdown",
   "metadata": {},
   "source": [
    "### Lihu Gelem, 300005030\n",
    "### Jonathan Benhamou, 206822991"
   ]
  },
  {
   "cell_type": "markdown",
   "metadata": {},
   "source": [
    "### Notebook is running on EMR"
   ]
  },
  {
   "cell_type": "code",
   "execution_count": 1,
   "metadata": {},
   "outputs": [],
   "source": [
    "# Finding pyspark path\n",
    "import findspark\n",
    "findspark.init()"
   ]
  },
  {
   "cell_type": "code",
   "execution_count": 2,
   "metadata": {},
   "outputs": [],
   "source": [
    "# Imports\n",
    "import pandas as pd\n",
    "import matplotlib\n",
    "import time\n",
    "from pyspark.sql import SparkSession\n",
    "from pyspark.context import SparkContext\n",
    "from pyspark.sql.functions import *\n",
    "from pyspark.sql.types import *\n",
    "from pyspark.sql import functions as F\n",
    "from pyspark.ml.feature import Imputer\n",
    "from sklearn import preprocessing\n",
    "from pyspark.ml.feature import StandardScaler\n",
    "from datetime import date, timedelta, datetime\n",
    "from pyspark.sql.functions import lag\n",
    "from pyspark.ml.feature import VectorAssembler\n",
    "from pyspark.ml.classification import LogisticRegression\n",
    "from pyspark.ml.regression import LinearRegression\n",
    "from pyspark.ml.evaluation import RegressionEvaluator\n",
    "from pyspark.ml.evaluation import BinaryClassificationEvaluator\n",
    "from pyspark.ml.classification import RandomForestClassifier\n",
    "from sklearn.metrics import classification_report, confusion_matrix\n",
    "from pyspark.mllib.evaluation import MulticlassMetrics\n"
   ]
  },
  {
   "cell_type": "markdown",
   "metadata": {},
   "source": [
    "### 1-3) Building a classification machine learning model that tries to predict if the fare is lower or higher then $10"
   ]
  },
  {
   "cell_type": "markdown",
   "metadata": {},
   "source": [
    "## Initialization of a Spark Session and getting the data"
   ]
  },
  {
   "cell_type": "code",
   "execution_count": 3,
   "metadata": {},
   "outputs": [],
   "source": [
    "sc = SparkSession.builder.appName(\"FinalProjectBigDataPlatform\")\\\n",
    "    .config (\"spark.sql.shuffle.partitions\", \"50\") \\\n",
    "    .config(\"spark.driver.maxResultSize\",\"5g\") \\\n",
    "    .config (\"spark.sql.execution.arrow.pyspark.enabled\", \"false\")\\\n",
    "    .getOrCreate()"
   ]
  },
  {
   "cell_type": "code",
   "execution_count": 4,
   "metadata": {},
   "outputs": [
    {
     "name": "stdout",
     "output_type": "stream",
     "text": [
      "Warning: Your Kaggle API key is readable by other users on this system! To fix this, you can run 'chmod 600 /home/hadoop/.kaggle/kaggle.json'\n",
      "Downloading idc_train.csv.zip to /home/hadoop\n",
      "100%|#######################################8| 459M/461M [00:11<00:00, 51.3MB/s]\n",
      "100%|########################################| 461M/461M [00:11<00:00, 42.6MB/s]\n",
      "Warning: Your Kaggle API key is readable by other users on this system! To fix this, you can run 'chmod 600 /home/hadoop/.kaggle/kaggle.json'\n",
      "Downloading idc_test.csv to /home/hadoop\n",
      "  0%|                                                | 0.00/722k [00:00<?, ?B/s]\n",
      "100%|########################################| 722k/722k [00:00<00:00, 9.25MB/s]\n",
      "CPU times: user 355 ms, sys: 93.7 ms, total: 449 ms\n",
      "Wall time: 15.9 s\n"
     ]
    }
   ],
   "source": [
    "%%time\n",
    "# Getting the training and test data\n",
    "!kaggle competitions download -f idc_train.csv idc-big-data-ml-competition\n",
    "!kaggle competitions download -f idc_test.csv idc-big-data-ml-competition"
   ]
  },
  {
   "cell_type": "code",
   "execution_count": 5,
   "metadata": {},
   "outputs": [
    {
     "name": "stdout",
     "output_type": "stream",
     "text": [
      "Archive:  idc_train.csv.zip\n",
      "  inflating: idc_train.csv           \n"
     ]
    }
   ],
   "source": [
    "!unzip idc_train.csv.zip"
   ]
  },
  {
   "cell_type": "code",
   "execution_count": 6,
   "metadata": {},
   "outputs": [],
   "source": [
    "!rm idc_train.csv.zip"
   ]
  },
  {
   "cell_type": "code",
   "execution_count": 7,
   "metadata": {},
   "outputs": [],
   "source": [
    "# removing duplicates from csv\n",
    "with open('idc_train.csv','r') as in_file, open('idc_train_no_duplicates.csv','w') as out_file:\n",
    "    seen = set() # set for fast O(1) amortized lookup\n",
    "    for line in in_file:\n",
    "        if line in seen: continue # skip duplicate\n",
    "\n",
    "        seen.add(line)\n",
    "        out_file.write(line)"
   ]
  },
  {
   "cell_type": "code",
   "execution_count": null,
   "metadata": {},
   "outputs": [],
   "source": [
    "# Copying files to Hadoop environment \n",
    "!hadoop fs -copyFromLocal idc_test.csv\n",
    "!hadoop fs -copyFromLocal idc_train_no_duplicates.csv"
   ]
  },
  {
   "cell_type": "markdown",
   "metadata": {},
   "source": [
    "# Reading file"
   ]
  },
  {
   "cell_type": "markdown",
   "metadata": {},
   "source": [
    "### Train reading"
   ]
  },
  {
   "cell_type": "code",
   "execution_count": 4,
   "metadata": {},
   "outputs": [
    {
     "name": "stdout",
     "output_type": "stream",
     "text": [
      "CPU times: user 5 µs, sys: 0 ns, total: 5 µs\n",
      "Wall time: 13.6 µs\n"
     ]
    }
   ],
   "source": [
    "%time\n",
    "#Read from json and creates a spark data frame\n",
    "\n",
    "schema = StructType([\n",
    "    StructField(\"key\", IntegerType()),\n",
    "    StructField(\"fare_amount\", FloatType()),\n",
    "    StructField(\"pickup_datetime\", StringType()),\n",
    "    StructField(\"pickup_longitude\", FloatType()),\n",
    "    StructField(\"pickup_latitude\", FloatType()),\n",
    "    StructField(\"dropoff_longitude\", FloatType()),\n",
    "    StructField(\"dropoff_latitude\", FloatType()),\n",
    "    StructField(\"passenger_count\", ByteType()), \n",
    "    StructField(\"pickup_datetime_timestamp\", TimestampType()),\n",
    "])\n",
    "\n",
    "dataframe_train = sc.read.format(\"csv\").option(\"header\", \"true\").schema(schema).option(\"TimeStampFormat\", \"yyyy-mm-dd hh:mm:ss\").load(\"idc_train_no_duplicates.csv\")"
   ]
  },
  {
   "cell_type": "markdown",
   "metadata": {},
   "source": [
    "### Test reading"
   ]
  },
  {
   "cell_type": "code",
   "execution_count": 5,
   "metadata": {},
   "outputs": [
    {
     "name": "stdout",
     "output_type": "stream",
     "text": [
      "CPU times: user 3 µs, sys: 0 ns, total: 3 µs\n",
      "Wall time: 7.39 µs\n"
     ]
    }
   ],
   "source": [
    "%time\n",
    "#Read from json and creates a spark data frame\n",
    "\n",
    "schema = StructType([\n",
    "    StructField(\"key\", IntegerType()),\n",
    "    StructField(\"pickup_datetime\", StringType()),\n",
    "    StructField(\"pickup_longitude\", FloatType()),\n",
    "    StructField(\"pickup_latitude\", FloatType()),\n",
    "    StructField(\"dropoff_longitude\", FloatType()),\n",
    "    StructField(\"dropoff_latitude\", FloatType()),\n",
    "    StructField(\"passenger_count\", ByteType()),\n",
    "    StructField(\"pickup_datetime_timestamp\", TimestampType()),\n",
    "]) \n",
    "\n",
    "dataframe_test = sc.read.format(\"csv\").option(\"header\", \"true\").schema(schema).option(\"TimeStampFormat\", \"yyyy-mm-dd hh:mm:ss\").load(\"idc_test.csv\")"
   ]
  },
  {
   "cell_type": "markdown",
   "metadata": {},
   "source": [
    "## 5) Preprocessing to handle missing, incorrect data\n"
   ]
  },
  {
   "cell_type": "code",
   "execution_count": 6,
   "metadata": {},
   "outputs": [],
   "source": [
    "dataframe_train = dataframe_train.withColumn(\"pickup_datetime_timestamp\", col(\"pickup_datetime\"))\n",
    "dataframe_test = dataframe_test.withColumn(\"pickup_datetime_timestamp\", col(\"pickup_datetime\"))"
   ]
  },
  {
   "cell_type": "code",
   "execution_count": 7,
   "metadata": {},
   "outputs": [],
   "source": [
    "train_data = dataframe_train\n",
    "test_data = dataframe_test"
   ]
  },
  {
   "cell_type": "code",
   "execution_count": 8,
   "metadata": {},
   "outputs": [
    {
     "name": "stdout",
     "output_type": "stream",
     "text": [
      "CPU times: user 32.9 ms, sys: 0 ns, total: 32.9 ms\n",
      "Wall time: 18.8 s\n"
     ]
    }
   ],
   "source": [
    "%%time\n",
    "not_to_touch = {'pickup_datetime', 'key', 'hour', 'minute', 'day_of_month', 'month', 'day_of_week', 'year', 'distance', 'pickup_datetime_timestamp' }\n",
    "mean_dict = { col: 'mean' for col in train_data.columns }\n",
    "col_avgs = train_data.agg(mean_dict).collect()[0].asDict()\n",
    "col_avgs = { k[4:-1]: v for k,v in col_avgs.items() }\n",
    "for i in col_avgs:\n",
    "    if i not in not_to_touch:\n",
    "        train_data = train_data.fillna(col_avgs[i], subset=[(i)])       \n",
    "for j in test_data.columns:\n",
    "    if j not in not_to_touch:\n",
    "        test_data = test_data.fillna(col_avgs[j], subset=[(j)])"
   ]
  },
  {
   "cell_type": "markdown",
   "metadata": {},
   "source": [
    "## 6) Performing feature engineering\n",
    "## Caculating distance and adding distance col"
   ]
  },
  {
   "cell_type": "code",
   "execution_count": 9,
   "metadata": {},
   "outputs": [
    {
     "name": "stdout",
     "output_type": "stream",
     "text": [
      "CPU times: user 5 µs, sys: 1 µs, total: 6 µs\n",
      "Wall time: 10.5 µs\n"
     ]
    }
   ],
   "source": [
    "%%time\n",
    "# defining distance function\n",
    "def dist(long_x, lat_x, long_y, lat_y):\n",
    "    return (acos(\n",
    "        sin(toRadians(lat_x)) * sin(toRadians(lat_y)) + \n",
    "        cos(toRadians(lat_x)) * cos(toRadians(lat_y)) * \n",
    "            cos(toRadians(long_x) - toRadians(long_y))\n",
    "    ) * lit(6371.0))"
   ]
  },
  {
   "cell_type": "code",
   "execution_count": 10,
   "metadata": {},
   "outputs": [
    {
     "name": "stdout",
     "output_type": "stream",
     "text": [
      "CPU times: user 16.9 ms, sys: 1.09 ms, total: 18 ms\n",
      "Wall time: 307 ms\n"
     ]
    }
   ],
   "source": [
    "%%time\n",
    "# adding distance to dataframe\n",
    "from pyspark.sql.functions import lag\n",
    "\n",
    "train_data = train_data.withColumn(\"distance\", dist(\n",
    "        \"pickup_longitude\", \"pickup_latitude\", \"dropoff_longitude\",\"dropoff_latitude\"\n",
    "    ))\n",
    "test_data = test_data.withColumn(\"distance\", dist(\n",
    "        \"pickup_longitude\", \"pickup_latitude\", \"dropoff_longitude\",\"dropoff_latitude\"\n",
    "    ))"
   ]
  },
  {
   "cell_type": "markdown",
   "metadata": {},
   "source": [
    "## Extracting data from time"
   ]
  },
  {
   "cell_type": "code",
   "execution_count": 11,
   "metadata": {},
   "outputs": [
    {
     "name": "stdout",
     "output_type": "stream",
     "text": [
      "CPU times: user 17.7 ms, sys: 1.16 ms, total: 18.8 ms\n",
      "Wall time: 516 ms\n"
     ]
    }
   ],
   "source": [
    "%%time\n",
    "# setting up more data from the date\n",
    "train_data = train_data.withColumn('hour', substring('pickup_datetime', 12, 2))\n",
    "train_data = train_data.withColumn('hour', F.regexp_replace('hour', r'^[0]', ''))\n",
    "train_data = train_data.withColumn('minute', substring('pickup_datetime', 15, 2))\n",
    "train_data = train_data.withColumn('minute', F.regexp_replace('minute', r'^[0]', ''))\n",
    "train_data = train_data.withColumn(\"day_of_month\", dayofmonth(col(\"pickup_datetime_timestamp\")))\n",
    "train_data = train_data.withColumn(\"month\", month(col(\"pickup_datetime_timestamp\")))\n",
    "train_data = train_data.withColumn(\"day_of_week\", dayofweek(col(\"pickup_datetime_timestamp\")))\n",
    "train_data = train_data.withColumn(\"year\", year(col(\"pickup_datetime_timestamp\")))\n",
    "\n",
    "test_data = test_data.withColumn('hour', substring('pickup_datetime', 12, 2))\n",
    "test_data = test_data.withColumn('hour', F.regexp_replace('hour', r'^[0]', ''))\n",
    "test_data = test_data.withColumn('minute', substring('pickup_datetime', 15, 2))\n",
    "test_data = test_data.withColumn('minute', F.regexp_replace('minute', r'^[0]', ''))\n",
    "test_data = test_data.withColumn(\"day_of_month\", dayofmonth(col(\"pickup_datetime_timestamp\")))\n",
    "test_data = test_data.withColumn(\"month\", month(col(\"pickup_datetime_timestamp\")))\n",
    "test_data = test_data.withColumn(\"day_of_week\", dayofweek(col(\"pickup_datetime_timestamp\")))\n",
    "test_data = test_data.withColumn(\"year\", year(col(\"pickup_datetime_timestamp\")))"
   ]
  },
  {
   "cell_type": "code",
   "execution_count": 12,
   "metadata": {},
   "outputs": [
    {
     "name": "stdout",
     "output_type": "stream",
     "text": [
      "CPU times: user 22.2 ms, sys: 741 µs, total: 23 ms\n",
      "Wall time: 564 ms\n"
     ]
    }
   ],
   "source": [
    "%%time\n",
    "# casting all values to float in order to use as features\n",
    "\n",
    "train_data = train_data.withColumn('hour', train_data.hour.cast('float'))\n",
    "train_data = train_data.withColumn('minute', train_data.minute.cast('float'))\n",
    "train_data = train_data.withColumn('day_of_month', train_data.day_of_month.cast('float'))\n",
    "train_data = train_data.withColumn('month', train_data.month.cast('float'))\n",
    "train_data = train_data.withColumn('day_of_week', train_data.day_of_week.cast('float'))\n",
    "train_data = train_data.withColumn('year', train_data.year.cast('float'))\n",
    "train_data = train_data.withColumn('passenger_count', train_data.passenger_count.cast('float'))\n",
    "\n",
    "test_data = test_data.withColumn('hour', test_data.hour.cast('float'))\n",
    "test_data = test_data.withColumn('minute', test_data.minute.cast('float'))\n",
    "test_data = test_data.withColumn('day_of_month', test_data.day_of_month.cast('float'))\n",
    "test_data = test_data.withColumn('month', test_data.month.cast('float'))\n",
    "test_data = test_data.withColumn('day_of_week', test_data.day_of_week.cast('float'))\n",
    "test_data = test_data.withColumn('year', test_data.year.cast('float'))\n",
    "test_data = test_data.withColumn('passenger_count', test_data.passenger_count.cast('float'))\n"
   ]
  },
  {
   "cell_type": "markdown",
   "metadata": {},
   "source": [
    "### Imputer to handle missing values"
   ]
  },
  {
   "cell_type": "code",
   "execution_count": 13,
   "metadata": {},
   "outputs": [
    {
     "name": "stdout",
     "output_type": "stream",
     "text": [
      "CPU times: user 29.9 ms, sys: 2.58 ms, total: 32.5 ms\n",
      "Wall time: 12 s\n"
     ]
    }
   ],
   "source": [
    "%%time\n",
    "# Adjusting all relevant values to mean with imputer \n",
    "imputer = Imputer(strategy='mean', inputCols=['distance', 'hour', 'passenger_count', 'minute', 'day_of_month', 'month', 'day_of_week', 'year', 'pickup_longitude', 'pickup_latitude', 'dropoff_longitude', 'dropoff_latitude'], outputCols=['distance', 'hour', 'passenger_count', 'minute', 'day_of_month', 'month', 'day_of_week', 'year', 'pickup_longitude', 'pickup_latitude', 'dropoff_longitude', 'dropoff_latitude'])\n",
    "imputer_model = imputer.fit(train_data)\n",
    "\n",
    "train_data = imputer_model.transform(train_data)\n",
    "test_data = imputer_model.transform(test_data)"
   ]
  },
  {
   "cell_type": "code",
   "execution_count": 14,
   "metadata": {},
   "outputs": [
    {
     "name": "stdout",
     "output_type": "stream",
     "text": [
      "CPU times: user 11.7 ms, sys: 335 µs, total: 12.1 ms\n",
      "Wall time: 14.9 s\n"
     ]
    }
   ],
   "source": [
    "%%time\n",
    "# Fixing outliers in distance\n",
    "train_data = train_data.filter(\"distance > 0\")\n",
    "train_data = train_data.filter(\"distance < 1000\")\n",
    "\n",
    "mean_dict_dist = { 'distance': 'mean' }\n",
    "dist_avg = train_data.agg(mean_dict_dist).collect()[0].asDict()\n",
    "dist_avg = { k[4:-1]: v for k,v in dist_avg.items() }\n",
    "for i in dist_avg:\n",
    "    test_data = test_data.fillna(dist_avg[i], subset=[(i)])\n",
    "for i in dist_avg:\n",
    "    #test_data = test_data.withColumn(i, when((test_data[i] == 0)  ,dist_avg[i]).otherwise(test_data[i]))\n",
    "    test_data = test_data.withColumn(i, when((test_data[i] > 1000)  ,dist_avg[i]).otherwise(test_data[i]))\n",
    "    test_data = test_data.withColumn(i, when((test_data[i] < 0)  ,dist_avg[i]).otherwise(test_data[i]))"
   ]
  },
  {
   "cell_type": "markdown",
   "metadata": {},
   "source": [
    "### 4. Creating a new boolean column “high_fare”"
   ]
  },
  {
   "cell_type": "code",
   "execution_count": 15,
   "metadata": {},
   "outputs": [
    {
     "name": "stdout",
     "output_type": "stream",
     "text": [
      "CPU times: user 0 ns, sys: 3.41 ms, total: 3.41 ms\n",
      "Wall time: 48.2 ms\n"
     ]
    }
   ],
   "source": [
    "%%time\n",
    "# Getting rid of negative/zero fare_amounts and creating the label column (high_fare)\n",
    "train_data = train_data.filter(\"fare_amount > 0\")\n",
    "train_data = train_data.withColumn(\"high_fare\",when(train_data.fare_amount>=10, 1).otherwise(0))"
   ]
  },
  {
   "cell_type": "code",
   "execution_count": 16,
   "metadata": {},
   "outputs": [],
   "source": [
    "# optimization training data - sometimes we can use part or all of it sometimes not\n",
    "train_data = train_data.filter(\"key > 0\")\n",
    "train_data = train_data.filter(\"fare_amount > 0\")\n",
    "train_data = train_data.filter(\"fare_amount < 500\")\n",
    "train_data = train_data.filter(\"pickup_longitude > -180\")\n",
    "train_data = train_data.filter(\"pickup_longitude < 80\")\n",
    "train_data = train_data.filter(\"pickup_latitude > -90\")\n",
    "train_data = train_data.filter(\"pickup_latitude < 90\")\n",
    "train_data = train_data.filter(\"dropoff_longitude > -180\")\n",
    "train_data = train_data.filter(\"dropoff_longitude < 80\")\n",
    "train_data = train_data.filter(\"dropoff_latitude > -90\")\n",
    "train_data = train_data.filter(\"dropoff_latitude < 90\")\n",
    "#train_data = train_data.filter(\"passenger_count > 0\")\n",
    "train_data = train_data.filter(\"passenger_count < 20\")\n",
    "train_data = train_data.filter(\"pickup_longitude != 0\")\n",
    "train_data = train_data.filter(\"pickup_longitude != 0\")\n",
    "train_data = train_data.filter(\"pickup_latitude != 0\")\n",
    "train_data = train_data.filter(\"pickup_latitude != 0\")\n",
    "train_data = train_data.filter(\"dropoff_longitude != 0\")\n",
    "train_data = train_data.filter(\"dropoff_longitude != 0\")\n",
    "train_data = train_data.filter(\"dropoff_latitude != 0\")\n",
    "train_data = train_data.filter(\"dropoff_latitude != 0\")"
   ]
  },
  {
   "cell_type": "markdown",
   "metadata": {},
   "source": [
    "## PANDAS PLOTS"
   ]
  },
  {
   "cell_type": "code",
   "execution_count": 28,
   "metadata": {},
   "outputs": [
    {
     "name": "stdout",
     "output_type": "stream",
     "text": [
      "CPU times: user 247 ms, sys: 8.14 ms, total: 256 ms\n",
      "Wall time: 2.3 s\n"
     ]
    },
    {
     "data": {
      "text/html": [
       "<div>\n",
       "<style scoped>\n",
       "    .dataframe tbody tr th:only-of-type {\n",
       "        vertical-align: middle;\n",
       "    }\n",
       "\n",
       "    .dataframe tbody tr th {\n",
       "        vertical-align: top;\n",
       "    }\n",
       "\n",
       "    .dataframe thead th {\n",
       "        text-align: right;\n",
       "    }\n",
       "</style>\n",
       "<table border=\"1\" class=\"dataframe\">\n",
       "  <thead>\n",
       "    <tr style=\"text-align: right;\">\n",
       "      <th></th>\n",
       "      <th>key</th>\n",
       "      <th>fare_amount</th>\n",
       "      <th>pickup_longitude</th>\n",
       "      <th>pickup_latitude</th>\n",
       "      <th>dropoff_longitude</th>\n",
       "      <th>dropoff_latitude</th>\n",
       "      <th>passenger_count</th>\n",
       "      <th>distance</th>\n",
       "      <th>hour</th>\n",
       "      <th>minute</th>\n",
       "      <th>day_of_month</th>\n",
       "      <th>month</th>\n",
       "      <th>day_of_week</th>\n",
       "      <th>year</th>\n",
       "      <th>high_fare</th>\n",
       "    </tr>\n",
       "  </thead>\n",
       "  <tbody>\n",
       "    <tr>\n",
       "      <th>count</th>\n",
       "      <td>10000.000000</td>\n",
       "      <td>10000.000000</td>\n",
       "      <td>10000.000000</td>\n",
       "      <td>10000.000000</td>\n",
       "      <td>10000.000000</td>\n",
       "      <td>10000.000000</td>\n",
       "      <td>10000.000000</td>\n",
       "      <td>10000.000000</td>\n",
       "      <td>10000.000000</td>\n",
       "      <td>10000.000000</td>\n",
       "      <td>10000.000000</td>\n",
       "      <td>10000.000000</td>\n",
       "      <td>10000.000000</td>\n",
       "      <td>10000.000000</td>\n",
       "      <td>10000.000000</td>\n",
       "    </tr>\n",
       "    <tr>\n",
       "      <th>mean</th>\n",
       "      <td>5161.136000</td>\n",
       "      <td>11.266837</td>\n",
       "      <td>-73.917671</td>\n",
       "      <td>40.693710</td>\n",
       "      <td>-73.916977</td>\n",
       "      <td>40.693893</td>\n",
       "      <td>1.698300</td>\n",
       "      <td>3.407557</td>\n",
       "      <td>13.586500</td>\n",
       "      <td>29.883499</td>\n",
       "      <td>15.664000</td>\n",
       "      <td>6.215400</td>\n",
       "      <td>4.126300</td>\n",
       "      <td>2011.740967</td>\n",
       "      <td>0.393600</td>\n",
       "    </tr>\n",
       "    <tr>\n",
       "      <th>std</th>\n",
       "      <td>2984.313208</td>\n",
       "      <td>9.264205</td>\n",
       "      <td>2.565275</td>\n",
       "      <td>2.564003</td>\n",
       "      <td>2.565455</td>\n",
       "      <td>2.564809</td>\n",
       "      <td>1.312497</td>\n",
       "      <td>4.220394</td>\n",
       "      <td>6.491343</td>\n",
       "      <td>17.373362</td>\n",
       "      <td>8.612556</td>\n",
       "      <td>3.428816</td>\n",
       "      <td>1.980995</td>\n",
       "      <td>1.882252</td>\n",
       "      <td>0.488572</td>\n",
       "    </tr>\n",
       "    <tr>\n",
       "      <th>min</th>\n",
       "      <td>1.000000</td>\n",
       "      <td>2.500000</td>\n",
       "      <td>-74.076614</td>\n",
       "      <td>-73.982033</td>\n",
       "      <td>-74.185204</td>\n",
       "      <td>-73.993156</td>\n",
       "      <td>1.000000</td>\n",
       "      <td>0.000095</td>\n",
       "      <td>0.000000</td>\n",
       "      <td>0.000000</td>\n",
       "      <td>1.000000</td>\n",
       "      <td>1.000000</td>\n",
       "      <td>1.000000</td>\n",
       "      <td>2009.000000</td>\n",
       "      <td>0.000000</td>\n",
       "    </tr>\n",
       "    <tr>\n",
       "      <th>25%</th>\n",
       "      <td>2577.750000</td>\n",
       "      <td>6.075000</td>\n",
       "      <td>-73.991837</td>\n",
       "      <td>40.737269</td>\n",
       "      <td>-73.991501</td>\n",
       "      <td>40.736714</td>\n",
       "      <td>1.000000</td>\n",
       "      <td>1.294883</td>\n",
       "      <td>9.000000</td>\n",
       "      <td>15.000000</td>\n",
       "      <td>8.000000</td>\n",
       "      <td>3.000000</td>\n",
       "      <td>2.000000</td>\n",
       "      <td>2010.000000</td>\n",
       "      <td>0.000000</td>\n",
       "    </tr>\n",
       "    <tr>\n",
       "      <th>50%</th>\n",
       "      <td>5151.500000</td>\n",
       "      <td>8.500000</td>\n",
       "      <td>-73.982033</td>\n",
       "      <td>40.753633</td>\n",
       "      <td>-73.980331</td>\n",
       "      <td>40.754265</td>\n",
       "      <td>1.000000</td>\n",
       "      <td>2.184502</td>\n",
       "      <td>14.000000</td>\n",
       "      <td>30.000000</td>\n",
       "      <td>16.000000</td>\n",
       "      <td>6.000000</td>\n",
       "      <td>4.000000</td>\n",
       "      <td>2012.000000</td>\n",
       "      <td>0.000000</td>\n",
       "    </tr>\n",
       "    <tr>\n",
       "      <th>75%</th>\n",
       "      <td>7742.250000</td>\n",
       "      <td>12.500000</td>\n",
       "      <td>-73.968359</td>\n",
       "      <td>40.767720</td>\n",
       "      <td>-73.965483</td>\n",
       "      <td>40.768521</td>\n",
       "      <td>2.000000</td>\n",
       "      <td>3.975019</td>\n",
       "      <td>19.000000</td>\n",
       "      <td>45.000000</td>\n",
       "      <td>23.000000</td>\n",
       "      <td>9.000000</td>\n",
       "      <td>6.000000</td>\n",
       "      <td>2013.000000</td>\n",
       "      <td>1.000000</td>\n",
       "    </tr>\n",
       "    <tr>\n",
       "      <th>max</th>\n",
       "      <td>10331.000000</td>\n",
       "      <td>114.500000</td>\n",
       "      <td>40.849529</td>\n",
       "      <td>41.366138</td>\n",
       "      <td>40.840740</td>\n",
       "      <td>40.984520</td>\n",
       "      <td>6.000000</td>\n",
       "      <td>128.988689</td>\n",
       "      <td>23.000000</td>\n",
       "      <td>59.000000</td>\n",
       "      <td>31.000000</td>\n",
       "      <td>12.000000</td>\n",
       "      <td>7.000000</td>\n",
       "      <td>2015.000000</td>\n",
       "      <td>1.000000</td>\n",
       "    </tr>\n",
       "  </tbody>\n",
       "</table>\n",
       "</div>"
      ],
      "text/plain": [
       "                key   fare_amount  pickup_longitude  pickup_latitude  \\\n",
       "count  10000.000000  10000.000000      10000.000000     10000.000000   \n",
       "mean    5161.136000     11.266837        -73.917671        40.693710   \n",
       "std     2984.313208      9.264205          2.565275         2.564003   \n",
       "min        1.000000      2.500000        -74.076614       -73.982033   \n",
       "25%     2577.750000      6.075000        -73.991837        40.737269   \n",
       "50%     5151.500000      8.500000        -73.982033        40.753633   \n",
       "75%     7742.250000     12.500000        -73.968359        40.767720   \n",
       "max    10331.000000    114.500000         40.849529        41.366138   \n",
       "\n",
       "       dropoff_longitude  dropoff_latitude  passenger_count      distance  \\\n",
       "count       10000.000000      10000.000000     10000.000000  10000.000000   \n",
       "mean          -73.916977         40.693893         1.698300      3.407557   \n",
       "std             2.565455          2.564809         1.312497      4.220394   \n",
       "min           -74.185204        -73.993156         1.000000      0.000095   \n",
       "25%           -73.991501         40.736714         1.000000      1.294883   \n",
       "50%           -73.980331         40.754265         1.000000      2.184502   \n",
       "75%           -73.965483         40.768521         2.000000      3.975019   \n",
       "max            40.840740         40.984520         6.000000    128.988689   \n",
       "\n",
       "               hour        minute  day_of_month         month   day_of_week  \\\n",
       "count  10000.000000  10000.000000  10000.000000  10000.000000  10000.000000   \n",
       "mean      13.586500     29.883499     15.664000      6.215400      4.126300   \n",
       "std        6.491343     17.373362      8.612556      3.428816      1.980995   \n",
       "min        0.000000      0.000000      1.000000      1.000000      1.000000   \n",
       "25%        9.000000     15.000000      8.000000      3.000000      2.000000   \n",
       "50%       14.000000     30.000000     16.000000      6.000000      4.000000   \n",
       "75%       19.000000     45.000000     23.000000      9.000000      6.000000   \n",
       "max       23.000000     59.000000     31.000000     12.000000      7.000000   \n",
       "\n",
       "               year     high_fare  \n",
       "count  10000.000000  10000.000000  \n",
       "mean    2011.740967      0.393600  \n",
       "std        1.882252      0.488572  \n",
       "min     2009.000000      0.000000  \n",
       "25%     2010.000000      0.000000  \n",
       "50%     2012.000000      0.000000  \n",
       "75%     2013.000000      1.000000  \n",
       "max     2015.000000      1.000000  "
      ]
     },
     "execution_count": 28,
     "metadata": {},
     "output_type": "execute_result"
    }
   ],
   "source": [
    "%%time\n",
    "sample_data = train_data.limit(10000)\n",
    "df = sample_data.toPandas()\n",
    "df.describe()"
   ]
  },
  {
   "cell_type": "markdown",
   "metadata": {},
   "source": [
    "### 7a - Distribution of ride fairs"
   ]
  },
  {
   "cell_type": "code",
   "execution_count": 29,
   "metadata": {},
   "outputs": [
    {
     "name": "stdout",
     "output_type": "stream",
     "text": [
      "CPU times: user 300 ms, sys: 16 ms, total: 316 ms\n",
      "Wall time: 436 ms\n"
     ]
    },
    {
     "data": {
      "text/plain": [
       "<matplotlib.axes._subplots.AxesSubplot at 0x7fd914a41ac8>"
      ]
     },
     "execution_count": 29,
     "metadata": {},
     "output_type": "execute_result"
    },
    {
     "data": {
      "image/png": "[encoded data removed]",
      "text/plain": [
       "<Figure size 432x288 with 1 Axes>"
      ]
     },
     "metadata": {
      "needs_background": "light"
     },
     "output_type": "display_data"
    }
   ],
   "source": [
    "%%time\n",
    "df[\"fare_amount\"].plot.hist(bins=70, alpha=1, title=\"Fare Amount Distribution\")"
   ]
  },
  {
   "cell_type": "markdown",
   "metadata": {},
   "source": [
    "### 7b - Ride fare vs. ride length\n"
   ]
  },
  {
   "cell_type": "code",
   "execution_count": 30,
   "metadata": {},
   "outputs": [
    {
     "data": {
      "text/plain": [
       "<matplotlib.axes._subplots.AxesSubplot at 0x7fd915628a20>"
      ]
     },
     "execution_count": 30,
     "metadata": {},
     "output_type": "execute_result"
    },
    {
     "data": {
      "image/png": "[encoded data removed]",
      "text/plain": [
       "<Figure size 432x288 with 1 Axes>"
      ]
     },
     "metadata": {
      "needs_background": "light"
     },
     "output_type": "display_data"
    }
   ],
   "source": [
    "df.plot(kind='scatter', x='fare_amount', y='distance', title='Ride fare vs distance')"
   ]
  },
  {
   "cell_type": "markdown",
   "metadata": {},
   "source": [
    "### 7c - Average ride length per pick up time hour of the day (x-axis = 24 hours)"
   ]
  },
  {
   "cell_type": "code",
   "execution_count": 31,
   "metadata": {},
   "outputs": [
    {
     "data": {
      "text/plain": [
       "<matplotlib.axes._subplots.AxesSubplot at 0x7fd914146048>"
      ]
     },
     "execution_count": 31,
     "metadata": {},
     "output_type": "execute_result"
    },
    {
     "data": {
      "image/png": "[encoded data removed]",
      "text/plain": [
       "<Figure size 432x288 with 1 Axes>"
      ]
     },
     "metadata": {
      "needs_background": "light"
     },
     "output_type": "display_data"
    }
   ],
   "source": [
    "mean_per_hour = []\n",
    "for h in range(24):\n",
    "    mean_per_hour += [(df[df['hour'] == h].distance).mean()]\n",
    "df_to_plot = pd.DataFrame({'mean_per_hour': mean_per_hour, 'hour': list(range(0, 24))})\n",
    "df_to_plot.plot(kind='bar', x='hour', y='mean_per_hour', title=\"Average ride length per pick up time hour of the day\")"
   ]
  },
  {
   "cell_type": "markdown",
   "metadata": {},
   "source": [
    "### Feature assembling"
   ]
  },
  {
   "cell_type": "code",
   "execution_count": 17,
   "metadata": {},
   "outputs": [
    {
     "name": "stdout",
     "output_type": "stream",
     "text": [
      "CPU times: user 13.5 ms, sys: 0 ns, total: 13.5 ms\n",
      "Wall time: 356 ms\n"
     ]
    }
   ],
   "source": [
    "%%time\n",
    "# Building the vector assembler of the features\n",
    "from pyspark.ml.feature import VectorAssembler\n",
    "assembler = VectorAssembler(inputCols=['distance', 'hour', 'passenger_count', 'minute', 'day_of_month', 'month', 'day_of_week', 'year', 'pickup_longitude', 'pickup_latitude', 'dropoff_longitude', 'dropoff_latitude'], outputCol='Features')\n",
    "model_train = assembler.transform(train_data)\n",
    "model_test = assembler.transform(test_data)"
   ]
  },
  {
   "cell_type": "markdown",
   "metadata": {},
   "source": [
    "### Evaluator initialization"
   ]
  },
  {
   "cell_type": "code",
   "execution_count": 18,
   "metadata": {},
   "outputs": [],
   "source": [
    "evaluator = BinaryClassificationEvaluator(labelCol='high_fare', metricName='areaUnderROC')"
   ]
  },
  {
   "cell_type": "markdown",
   "metadata": {},
   "source": [
    "### Split train model into train and test "
   ]
  },
  {
   "cell_type": "code",
   "execution_count": 19,
   "metadata": {},
   "outputs": [],
   "source": [
    "(training_data_simulation, test_data_simulation) = model_train.randomSplit([0.8, 0.2])"
   ]
  },
  {
   "cell_type": "markdown",
   "metadata": {},
   "source": [
    "### 9-10) Random Forest with 1 worker"
   ]
  },
  {
   "cell_type": "code",
   "execution_count": 20,
   "metadata": {},
   "outputs": [
    {
     "name": "stdout",
     "output_type": "stream",
     "text": [
      "Random Forest Results\n",
      "\n",
      "Training: 0.9370488673095558\n",
      "Test: 0.9369289292111552\n",
      "CPU times: user 900 ms, sys: 102 ms, total: 1 s\n",
      "Wall time: 1h 40min 57s\n"
     ]
    }
   ],
   "source": [
    "%%time\n",
    "\"\"\"Running Random Forest on 80% of data with 1 worker,\n",
    "then testing on the training data and on the testing data (the other 20%)\"\"\"\n",
    "\n",
    "rfAlgo = RandomForestClassifier(featuresCol='Features', labelCol='high_fare', numTrees=20, maxDepth=7)\n",
    "rfModel = rfAlgo.fit(training_data_simulation)\n",
    "predictions_train_data_RF = rfModel.transform(training_data_simulation)\n",
    "print('Random Forest Results\\n')\n",
    "print(\"Training:\", evaluator.evaluate(predictions_train_data_RF))\n",
    "predictions_test_data_RF = rfModel.transform(test_data_simulation)\n",
    "print(\"Test:\", evaluator.evaluate(predictions_test_data_RF))"
   ]
  },
  {
   "cell_type": "markdown",
   "metadata": {},
   "source": [
    "### 9-10) Random Forest with 10 workers"
   ]
  },
  {
   "cell_type": "code",
   "execution_count": 64,
   "metadata": {},
   "outputs": [
    {
     "name": "stdout",
     "output_type": "stream",
     "text": [
      "Random Forest Results\n",
      "\n",
      "Training: 0.936079690006069\n",
      "Test: 0.9364771493008219\n",
      "CPU times: user 261 ms, sys: 27 ms, total: 288 ms\n",
      "Wall time: 36min 16s\n"
     ]
    }
   ],
   "source": [
    "%%time\n",
    "\"\"\"Running Random Forest on 80% of data with 10 workers,\n",
    "then testing on the training data and on the testing data (the other 20%)\"\"\"\n",
    "\n",
    "rfAlgo = RandomForestClassifier(featuresCol='Features', labelCol='high_fare', numTrees=20, maxDepth=7)\n",
    "rfModel = rfAlgo.fit(training_data_simulation)\n",
    "predictions_train_data_RF = rfModel.transform(training_data_simulation)\n",
    "print('Random Forest Results\\n')\n",
    "print(\"Training:\", evaluator.evaluate(predictions_train_data_RF))\n",
    "predictions_test_data_RF = rfModel.transform(test_data_simulation)\n",
    "print(\"Test:\", evaluator.evaluate(predictions_test_data_RF))"
   ]
  },
  {
   "cell_type": "markdown",
   "metadata": {},
   "source": [
    "### Printing Confusion Matrix - training prediction"
   ]
  },
  {
   "cell_type": "code",
   "execution_count": 49,
   "metadata": {},
   "outputs": [
    {
     "name": "stdout",
     "output_type": "stream",
     "text": [
      "[[8808358.  610769.]\n",
      " [1294818. 4754832.]]\n"
     ]
    }
   ],
   "source": [
    "preds_and_labels = predictions_train_data_RF.select(['prediction','high_fare']).withColumn('label', F.col('high_fare').cast(FloatType())).orderBy('prediction')\n",
    "preds_and_labels = preds_and_labels.select(['prediction','label'])\n",
    "metrics = MulticlassMetrics(preds_and_labels.rdd.map(tuple))\n",
    "print(metrics.confusionMatrix().toArray())"
   ]
  },
  {
   "cell_type": "markdown",
   "metadata": {},
   "source": [
    "### Printing Confusion Matrix - testing prediction"
   ]
  },
  {
   "cell_type": "code",
   "execution_count": 53,
   "metadata": {},
   "outputs": [
    {
     "name": "stdout",
     "output_type": "stream",
     "text": [
      "[[2203016.  151924.]\n",
      " [ 324463. 1189361.]]\n"
     ]
    }
   ],
   "source": [
    "preds_and_labels = predictions_test_data_RF.select(['prediction','high_fare']).withColumn('label', F.col('high_fare').cast(FloatType())).orderBy('prediction')\n",
    "preds_and_labels = preds_and_labels.select(['prediction','label'])\n",
    "metrics = MulticlassMetrics(preds_and_labels.rdd.map(tuple))\n",
    "print(metrics.confusionMatrix().toArray())"
   ]
  },
  {
   "cell_type": "markdown",
   "metadata": {},
   "source": [
    "### 9-10) Linear regression - scaling the data before running the training"
   ]
  },
  {
   "cell_type": "code",
   "execution_count": 21,
   "metadata": {},
   "outputs": [
    {
     "name": "stdout",
     "output_type": "stream",
     "text": [
      "CPU times: user 48.2 ms, sys: 14.3 ms, total: 62.6 ms\n",
      "Wall time: 3min 11s\n"
     ]
    }
   ],
   "source": [
    "%%time\n",
    "# Scaling the Features before running Logistic Regression\n",
    "from sklearn import preprocessing\n",
    "from pyspark.ml.feature import StandardScaler\n",
    "sScaler = StandardScaler(\n",
    "    withMean=True, withStd=True, inputCol=\"Features\", outputCol=\"Features_scaled\"\n",
    ")\n",
    "\n",
    "training_data_simulation_scaled = sScaler.fit(training_data_simulation).transform(training_data_simulation)\n",
    "test_data_simulation_scaled = sScaler.fit(test_data_simulation).transform(test_data_simulation)"
   ]
  },
  {
   "cell_type": "markdown",
   "metadata": {},
   "source": [
    "### 9-10) Running Logistic regression with 1 worker"
   ]
  },
  {
   "cell_type": "code",
   "execution_count": 27,
   "metadata": {},
   "outputs": [
    {
     "name": "stdout",
     "output_type": "stream",
     "text": [
      "Logistic Regression Results\n",
      "\n",
      "Training: 0.9331308964292795\n",
      "Test: 0.9332259205018376\n",
      "CPU times: user 428 ms, sys: 38.4 ms, total: 467 ms\n",
      "Wall time: 43min 11s\n"
     ]
    }
   ],
   "source": [
    "%%time\n",
    "\"\"\"Running Logistic Regression on 80% of data with 1 workers,\n",
    "then testing on the training data and on the testing data (the other 20%)\"\"\"\n",
    "\n",
    "lralgo = LogisticRegression(featuresCol='Features_scaled', labelCol='high_fare', maxIter=5, regParam=0.5, elasticNetParam=0.1)\n",
    "lrModel = lralgo.fit(training_data_simulation_scaled)\n",
    "print('Logistic Regression Results\\n')\n",
    "\n",
    "predictions_train_data_LR = lrModel.transform(training_data_simulation_scaled)\n",
    "print(\"Training:\", evaluator.evaluate(predictions_train_data_LR))\n",
    "\n",
    "predictions_test_data_LR = lrModel.transform(test_data_simulation_scaled)\n",
    "print(\"Test:\", evaluator.evaluate(predictions_test_data_LR))"
   ]
  },
  {
   "cell_type": "markdown",
   "metadata": {},
   "source": [
    "### 9-10) Running Logistic regression with 10 workers"
   ]
  },
  {
   "cell_type": "code",
   "execution_count": 22,
   "metadata": {},
   "outputs": [
    {
     "name": "stdout",
     "output_type": "stream",
     "text": [
      "Logistic Regression Results\n",
      "\n",
      "Training: 0.933135570926027\n",
      "Test: 0.9332286930099112\n",
      "CPU times: user 98.6 ms, sys: 16 ms, total: 115 ms\n",
      "Wall time: 4min 58s\n"
     ]
    }
   ],
   "source": [
    "%%time\n",
    "\"\"\"Running Logistic Regression on 80% of data with 10 workers,\n",
    "then testing on the training data and on the testing data (the other 20%)\"\"\"\n",
    "\n",
    "lralgo = LogisticRegression(featuresCol='Features_scaled', labelCol='high_fare', maxIter=5, regParam=0.5, elasticNetParam=0.1)\n",
    "lrModel = lralgo.fit(training_data_simulation_scaled)\n",
    "print('Logistic Regression Results\\n')\n",
    "\n",
    "predictions_train_data_LR = lrModel.transform(training_data_simulation_scaled)\n",
    "print(\"Training:\", evaluator.evaluate(predictions_train_data_LR))\n",
    "\n",
    "predictions_test_data_LR = lrModel.transform(test_data_simulation_scaled)\n",
    "print(\"Test:\", evaluator.evaluate(predictions_test_data_LR))"
   ]
  },
  {
   "cell_type": "markdown",
   "metadata": {},
   "source": [
    "### Printing Confusion Matrix - training prediction"
   ]
  },
  {
   "cell_type": "code",
   "execution_count": 62,
   "metadata": {},
   "outputs": [
    {
     "name": "stdout",
     "output_type": "stream",
     "text": [
      "[[9447757.   10815.]\n",
      " [ 477021. 5589430.]]\n",
      "CPU times: user 102 ms, sys: 10.5 ms, total: 113 ms\n",
      "Wall time: 13min 31s\n"
     ]
    }
   ],
   "source": [
    "%%time\n",
    "preds_and_labels = predictions_train_data_LR.select(['prediction','high_fare']).withColumn('label', F.col('high_fare').cast(FloatType())).orderBy('prediction')\n",
    "preds_and_labels = preds_and_labels.select(['prediction','label'])\n",
    "metrics = MulticlassMetrics(preds_and_labels.rdd.map(tuple))\n",
    "matrix = metrics.confusionMatrix().toArray()\n",
    "print('[' + str(matrix[0]))\n",
    "print(' [ ' + str(matrix[1][1])[:-1] + ' ' + str(matrix[1][0])[:-1] + ']]')\n"
   ]
  },
  {
   "cell_type": "markdown",
   "metadata": {},
   "source": [
    "### Printing Confusion Matrix - testing prediction"
   ]
  },
  {
   "cell_type": "code",
   "execution_count": 63,
   "metadata": {},
   "outputs": [
    {
     "name": "stdout",
     "output_type": "stream",
     "text": [
      "[[2362718.    2686.]\n",
      " [ 122570. 1393581.]]\n",
      "CPU times: user 87.2 ms, sys: 11.6 ms, total: 98.8 ms\n",
      "Wall time: 11min 4s\n"
     ]
    }
   ],
   "source": [
    "%%time\n",
    "preds_and_labels = predictions_test_data_LR.select(['prediction','high_fare']).withColumn('label', F.col('high_fare').cast(FloatType())).orderBy('prediction')\n",
    "preds_and_labels = preds_and_labels.select(['prediction','label'])\n",
    "metrics = MulticlassMetrics(preds_and_labels.rdd.map(tuple))\n",
    "matrix = metrics.confusionMatrix().toArray()\n",
    "print('[' + str(matrix[0]))\n",
    "print(' [ ' + str(matrix[1][1])[:-1] + ' ' + str(matrix[1][0])[:-1] + ']]')"
   ]
  },
  {
   "cell_type": "markdown",
   "metadata": {},
   "source": [
    "### 12) Running model on whole data and using idc_test.csv as test and finally submitting model to Kaggle"
   ]
  },
  {
   "cell_type": "markdown",
   "metadata": {},
   "source": [
    "### Create RF model over all data"
   ]
  },
  {
   "cell_type": "code",
   "execution_count": 21,
   "metadata": {},
   "outputs": [
    {
     "name": "stdout",
     "output_type": "stream",
     "text": [
      "CPU times: user 475 ms, sys: 42.4 ms, total: 517 ms\n",
      "Wall time: 52min 34s\n"
     ]
    }
   ],
   "source": [
    "%%time\n",
    "# Creating final model of all training data \n",
    "rfAlgo = RandomForestClassifier(featuresCol='Features', labelCol='high_fare', numTrees=41, maxDepth=18)\n",
    "rfModel_final = rfAlgo.fit(model_train)"
   ]
  },
  {
   "cell_type": "markdown",
   "metadata": {},
   "source": [
    "### Create prediction for RF on idc_test to submit to Kaggle"
   ]
  },
  {
   "cell_type": "code",
   "execution_count": 22,
   "metadata": {},
   "outputs": [
    {
     "name": "stdout",
     "output_type": "stream",
     "text": [
      "+--------+----------+\n",
      "|     key|prediction|\n",
      "+--------+----------+\n",
      "|19990001|       0.0|\n",
      "|19990002|       1.0|\n",
      "|19990003|       0.0|\n",
      "|19990004|       0.0|\n",
      "|19990005|       0.0|\n",
      "|19990006|       0.0|\n",
      "|19990007|       0.0|\n",
      "|19990008|       1.0|\n",
      "|19990009|       0.0|\n",
      "|19990010|       0.0|\n",
      "+--------+----------+\n",
      "only showing top 10 rows\n",
      "\n",
      "CPU times: user 20.9 ms, sys: 4.88 ms, total: 25.8 ms\n",
      "Wall time: 56.2 s\n"
     ]
    }
   ],
   "source": [
    "%%time\n",
    "# Creating prediction for real test data\n",
    "out_prediction = rfModel_final.transform(model_test)\n",
    "out_prediction = out_prediction.select('key', 'prediction')\n",
    "out_prediction.show(10)"
   ]
  },
  {
   "cell_type": "code",
   "execution_count": 23,
   "metadata": {},
   "outputs": [
    {
     "name": "stdout",
     "output_type": "stream",
     "text": [
      "CPU times: user 11.8 ms, sys: 1.1 ms, total: 12.9 ms\n",
      "Wall time: 53.8 s\n"
     ]
    }
   ],
   "source": [
    "%%time\n",
    "# Outputting the prediction results to csv file\n",
    "result = out_prediction.select(['key',col(\"prediction\").alias(\"high_fare\")])\n",
    "result.write.csv('idc_prediction_5')"
   ]
  },
  {
   "cell_type": "code",
   "execution_count": 24,
   "metadata": {},
   "outputs": [
    {
     "name": "stdout",
     "output_type": "stream",
     "text": [
      "CPU times: user 74.7 ms, sys: 4.27 ms, total: 78.9 ms\n",
      "Wall time: 3.69 s\n"
     ]
    }
   ],
   "source": [
    "%%time\n",
    "# Saving csv file\n",
    "!hadoop fs -copyToLocal idc_prediction_5"
   ]
  },
  {
   "cell_type": "code",
   "execution_count": 28,
   "metadata": {},
   "outputs": [
    {
     "name": "stdout",
     "output_type": "stream",
     "text": [
      "CPU times: user 165 ms, sys: 33.2 ms, total: 198 ms\n",
      "Wall time: 5min 55s\n"
     ]
    }
   ],
   "source": [
    "%%time\n",
    "# Trying Logistic regression\n",
    "\n",
    "# Scaling data first\n",
    "train_data_scaled = sScaler.fit(model_train).transform(model_train)\n",
    "test_data_scaled = sScaler.fit(model_test).transform(model_test)\n",
    "\n",
    "\"\"\"Running Logistic Regression on real test data\"\"\"\n",
    "lralgo = LogisticRegression(featuresCol='Features_scaled', labelCol='high_fare', maxIter=20, regParam=0.5, elasticNetParam=0.1)\n",
    "lrModel_final = lralgo.fit(train_data_scaled)\n",
    "out_prediction_lr = lrModel_final.transform(test_data_scaled)\n",
    "out_prediction_lr = out_prediction_lr.select('key', 'prediction')\n",
    "# Outputting the prediction results to csv file\n",
    "result_lr = out_prediction_lr.select(['key',col(\"prediction\").alias(\"high_fare\")])\n",
    "result_lr.write.csv('idc_prediction_4')\n",
    "# Saving csv file\n",
    "!hadoop fs -copyToLocal idc_prediction_4"
   ]
  },
  {
   "cell_type": "markdown",
   "metadata": {},
   "source": [
    "### 14) Extra challange - regression model to predict the ride fare"
   ]
  },
  {
   "cell_type": "code",
   "execution_count": 21,
   "metadata": {},
   "outputs": [
    {
     "name": "stdout",
     "output_type": "stream",
     "text": [
      "CPU times: user 682 ms, sys: 106 ms, total: 787 ms\n",
      "Wall time: 30min 1s\n"
     ]
    }
   ],
   "source": [
    "%%time\n",
    "# Scaling the Features before running Logistic Regression\n",
    "sScaler = StandardScaler(\n",
    "    withMean=True, withStd=True, inputCol=\"Features\", outputCol=\"Features_scaled\"\n",
    ")\n",
    "\n",
    "training_data_simulation_scaled = sScaler.fit(training_data_simulation).transform(training_data_simulation)\n",
    "test_data_simulation_scaled = sScaler.fit(test_data_simulation).transform(test_data_simulation)"
   ]
  },
  {
   "cell_type": "code",
   "execution_count": 22,
   "metadata": {},
   "outputs": [
    {
     "name": "stdout",
     "output_type": "stream",
     "text": [
      "Running Linear regression model to predit the fare_amount\n",
      "RMSE: 7.624226\n",
      "r2: 0.371952\n",
      "CPU times: user 535 ms, sys: 51.6 ms, total: 587 ms\n",
      "Wall time: 1h 11s\n"
     ]
    }
   ],
   "source": [
    "%%time\n",
    "# Running Linear Regression on 80% of training data with 1 worker\n",
    "liralgo = LinearRegression(featuresCol='Features_scaled', labelCol='fare_amount', maxIter=5, regParam=0.5, elasticNetParam=0.1)\n",
    "print('Running Linear regression model to predit the fare_amount')\n",
    "lirModel = liralgo.fit(training_data_simulation_scaled)\n",
    "trainingSummary = lirModel.summary\n",
    "print(\"RMSE: %f\" % trainingSummary.rootMeanSquaredError)\n",
    "print(\"r2: %f\" % trainingSummary.r2)"
   ]
  },
  {
   "cell_type": "code",
   "execution_count": 26,
   "metadata": {},
   "outputs": [
    {
     "name": "stdout",
     "output_type": "stream",
     "text": [
      "Evaluating...\n",
      "Training:\n",
      "\n",
      "+------------------+-----------+--------------------+\n",
      "|        prediction|fare_amount|            features|\n",
      "+------------------+-----------+--------------------+\n",
      "| 9.567494408688233|        8.5|[2.88478794076426...|\n",
      "| 9.958527596665178|        9.7|[2.52386178889966...|\n",
      "| 9.812316817699424|        7.7|[1.93696733468743...|\n",
      "| 11.57827869745985|        7.5|[3.19888556594717...|\n",
      "|  8.96310501802606|        9.7|[2.00235187154415...|\n",
      "|7.8249672594998145|        3.7|[0.54952085836564...|\n",
      "| 8.021014033556844|        4.5|[0.48650039691888...|\n",
      "| 8.848479110533104|        4.9|[0.99854109945385...|\n",
      "| 10.85361758744772|        7.7|[2.71395909812549...|\n",
      "|16.250322133471563|       20.0|[7.83641737335194...|\n",
      "+------------------+-----------+--------------------+\n",
      "only showing top 10 rows\n",
      "\n",
      "r2 training score = 0.371952\n",
      "Test:\n",
      "\n",
      "+------------------+-----------+--------------------+\n",
      "|        prediction|fare_amount|            features|\n",
      "+------------------+-----------+--------------------+\n",
      "| 10.82943316837482|      35.47|[3.74504538236560...|\n",
      "| 8.477096210462864|        6.1|[1.30461755061900...|\n",
      "| 29.74200320548696|      57.33|[20.7482836436568...|\n",
      "| 8.498145467574501|        4.5|[0.88982349437655...|\n",
      "|27.286704842894196|      74.75|[17.6847993758704...|\n",
      "|10.277118971277673|        7.5|[1.90999306273913...|\n",
      "|13.036315375964753|       11.5|[4.12805616405185...|\n",
      "| 7.870311265113564|        3.3|[0.26942346535318...|\n",
      "| 10.32655123664676|        6.5|[1.91115197648017...|\n",
      "| 7.216258471442865|        7.8|[1.25847629141506...|\n",
      "+------------------+-----------+--------------------+\n",
      "only showing top 10 rows\n",
      "\n",
      "r2 test score = 0.374892\n"
     ]
    }
   ],
   "source": [
    "from pyspark.ml.evaluation import RegressionEvaluator\n",
    "print('Evaluating...')\n",
    "predictions_train_data_LIR = lirModel.transform(training_data_simulation_scaled)\n",
    "predictions_test_data_LIR = lirModel.transform(test_data_simulation_scaled)\n",
    "lir_evaluator = RegressionEvaluator(predictionCol=\"prediction\", labelCol=\"fare_amount\", metricName=\"r2\")\n",
    "print('Training:\\n')\n",
    "predictions_train_data_LIR.select(\"prediction\",\"fare_amount\",\"features\").show(10)\n",
    "print(\"r2 training score = %g\" % lir_evaluator.evaluate(predictions_train_data_LIR))\n",
    "print('Test:\\n')\n",
    "predictions_test_data_LIR.select(\"prediction\",\"fare_amount\",\"features\").show(10)\n",
    "print(\"r2 test score = %g\" % lir_evaluator.evaluate(predictions_test_data_LIR))"
   ]
  }
 ],
 "metadata": {
  "kernelspec": {
   "display_name": "Python 3",
   "language": "python",
   "name": "python3"
  },
  "language_info": {
   "codemirror_mode": {
    "name": "ipython",
    "version": 3
   },
   "file_extension": ".py",
   "mimetype": "text/x-python",
   "name": "python",
   "nbconvert_exporter": "python",
   "pygments_lexer": "ipython3",
   "version": "3.7.6"
  }
 },
 "nbformat": 4,
 "nbformat_minor": 4
}
